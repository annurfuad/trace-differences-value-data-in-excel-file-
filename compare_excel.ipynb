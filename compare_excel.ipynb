{
 "cells": [
  {
   "cell_type": "code",
   "execution_count": null,
   "metadata": {},
   "outputs": [],
   "source": [
    "import pandas as pd\n",
    "import numpy as np"
   ]
  },
  {
   "cell_type": "code",
   "execution_count": null,
   "metadata": {},
   "outputs": [],
   "source": [
    "dfmay = pd.read_excel('data/May_Report.xlsx')\n",
    "dfjune = pd.read_excel('data/June_Report.xlsx')\n"
   ]
  },
  {
   "cell_type": "code",
   "execution_count": null,
   "metadata": {},
   "outputs": [],
   "source": [
    "print(dfmay.equals(dfjune))"
   ]
  },
  {
   "cell_type": "code",
   "execution_count": null,
   "metadata": {},
   "outputs": [],
   "source": [
    "comparevalues = dfmay.values == dfjune.values\n",
    "\n",
    "print(comparevalues)\n",
    "\n",
    "rows,cols = np.where(comparevalues==False)\n",
    "\n",
    "for item in zip(rows,cols):\n",
    "    dfmay.iloc[item[0],item[1]] = ' {} --> {} '.format(dfmay.iloc[item[0], item[1]], dfjune.iloc[item[0],item[1]])\n",
    "    \n",
    "dfmay.to_excel('data/output2.xlsx', index=False,header=True)"
   ]
  }
 ],
 "metadata": {
  "interpreter": {
   "hash": "ac9b5832651eb4a7de7574345ab675f98be0f3c52c0e826f099de1d3ff56236a"
  },
  "kernelspec": {
   "display_name": "Python 3.9.5 64-bit ('env': venv)",
   "language": "python",
   "name": "python3"
  },
  "language_info": {
   "codemirror_mode": {
    "name": "ipython",
    "version": 3
   },
   "file_extension": ".py",
   "mimetype": "text/x-python",
   "name": "python",
   "nbconvert_exporter": "python",
   "pygments_lexer": "ipython3",
   "version": "3.9.5"
  },
  "orig_nbformat": 4
 },
 "nbformat": 4,
 "nbformat_minor": 2
}
